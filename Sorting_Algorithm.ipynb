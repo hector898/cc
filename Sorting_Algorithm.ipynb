{
  "nbformat": 4,
  "nbformat_minor": 0,
  "metadata": {
    "colab": {
      "name": "Sorting Algorithm.ipynb",
      "provenance": [],
      "collapsed_sections": [],
      "toc_visible": true,
      "authorship_tag": "ABX9TyOeycsC/1wCRarh/8Zwn2Ic",
      "include_colab_link": true
    },
    "kernelspec": {
      "name": "python3",
      "display_name": "Python 3"
    },
    "language_info": {
      "name": "python"
    }
  },
  "cells": [
    {
      "cell_type": "markdown",
      "metadata": {
        "id": "view-in-github",
        "colab_type": "text"
      },
      "source": [
        "<a href=\"https://colab.research.google.com/github/hector898/cc/blob/master/Sorting_Algorithm.ipynb\" target=\"_parent\"><img src=\"https://colab.research.google.com/assets/colab-badge.svg\" alt=\"Open In Colab\"/></a>"
      ]
    },
    {
      "cell_type": "markdown",
      "metadata": {
        "id": "iCWpOfRhi256"
      },
      "source": [
        "**1/ Bubble sort**\n",
        "\n",
        "Bubble sort work by comparing two element next to eachother and swap if they are in the wrong order"
      ]
    },
    {
      "cell_type": "code",
      "metadata": {
        "colab": {
          "base_uri": "https://localhost:8080/"
        },
        "id": "bg6HiMYdfwOH",
        "outputId": "1fd43a8e-f947-40f6-d8aa-ee7b1d647fd9"
      },
      "source": [
        "%%writefile Bubble_sort.cpp\n",
        "#include <iostream>\n",
        "using namespace std;\n",
        "\n",
        "//swap function\n",
        "void swap(int *a, int *b) {\n",
        "  int temp = *a;\n",
        "  *a = *b;\n",
        "  *b = temp;\n",
        "}\n",
        "\n",
        " // Function to print an array \n",
        "void print(int List[], int Size)\n",
        "{\n",
        "    int i;\n",
        "    for (i = 0; i < Size; i++)\n",
        "        cout << List[i] << \" \"<<endl;\n",
        "}\n",
        "\n",
        "\n",
        "// bubble sort function\n",
        "void bubbleSort(int List[], int Size)\n",
        "{\n",
        "    int i, j;\n",
        "    for (i = 0; i < Size - 1; i++)    //scan through the List\n",
        "     \n",
        "    for (j = 0; j < Size - i - 1; j++) //swap if the value is not in order\n",
        "        if (List[j] > List[j+1])\n",
        "            swap(&List[j], &List[j+1]);\n",
        "}\n",
        "\n",
        "int main()\n",
        "{\n",
        "    int List[] = {64, 34, 25, 12, 22, 11, 90};\n",
        "    int Size = sizeof(List)/sizeof(List[0]);\n",
        "    cout<<\"Before sort: \\n\";\n",
        "    print(List, Size);\n",
        "    cout<<\"After sort: \\n\";\n",
        "    bubbleSort(List, Size);\n",
        "    print(List, Size);\n",
        "    return 0;\n",
        "}"
      ],
      "execution_count": 20,
      "outputs": [
        {
          "output_type": "stream",
          "text": [
            "Writing Bubble_sort.cpp\n"
          ],
          "name": "stdout"
        }
      ]
    },
    {
      "cell_type": "markdown",
      "metadata": {
        "id": "RqWl_8D59Ngi"
      },
      "source": [
        "# New Section"
      ]
    },
    {
      "cell_type": "code",
      "metadata": {
        "colab": {
          "base_uri": "https://localhost:8080/"
        },
        "id": "ovauJX5jgaHI",
        "outputId": "83814063-683b-4410-a658-5f1afdb2bf41"
      },
      "source": [
        "%%shell\n",
        "g++ Bubble_sort.cpp -o bubble\n",
        "./bubble\n"
      ],
      "execution_count": 21,
      "outputs": [
        {
          "output_type": "stream",
          "text": [
            "Before sort: \n",
            "64 \n",
            "34 \n",
            "25 \n",
            "12 \n",
            "22 \n",
            "11 \n",
            "90 \n",
            "After sort: \n",
            "11 \n",
            "12 \n",
            "22 \n",
            "25 \n",
            "34 \n",
            "64 \n",
            "90 \n"
          ],
          "name": "stdout"
        },
        {
          "output_type": "execute_result",
          "data": {
            "text/plain": [
              ""
            ]
          },
          "metadata": {
            "tags": []
          },
          "execution_count": 21
        }
      ]
    },
    {
      "cell_type": "markdown",
      "metadata": {
        "id": "3p8JPcPHzaQh"
      },
      "source": [
        "**2/ Selection Sort**"
      ]
    },
    {
      "cell_type": "code",
      "metadata": {
        "colab": {
          "base_uri": "https://localhost:8080/"
        },
        "id": "twoyvXcRaAKZ",
        "outputId": "691377cd-3601-4f28-d1b7-8396eb4506d0"
      },
      "source": [
        "%%writefile Select_sort.cpp\n",
        "#include <iostream>\n",
        "using namespace std;\n",
        "\n",
        "// function to swap the the position of two elements\n",
        "void swap(int *a, int *b) {\n",
        "  int temp = *a;\n",
        "  *a = *b;\n",
        "  *b = temp;\n",
        "}\n",
        "\n",
        "// function to print \n",
        "void print(int List[], int Size) {\n",
        "  for (int i = 0; i < Size; i++) \n",
        "    cout << List[i] << endl;\n",
        "  \n",
        "}\n",
        "\n",
        "void selectionSort(int List[], int Size) {\n",
        "  for (int i = 0; i < Size - 1; i++) {\n",
        "    int temp = i;\n",
        "    for (int j = i + 1; j < Size; j++) {\n",
        "      // Select the minimum element in each loop.\n",
        "      if (List[j] < List[temp]) //the order is depend on the operator\n",
        "        temp = j; // overwrite the previous value lower/higher value\n",
        "    }\n",
        "\n",
        "    // swap min/max value to their correct position\n",
        "    swap(&List[temp], &List[i]);\n",
        "  }\n",
        "}\n",
        "\n",
        "int main() {\n",
        "  int List[] = {20, 12, 10, 15, 2, 7, 1};\n",
        "  int size = sizeof(List) / sizeof(List[0]);\n",
        "  cout << \"Before sort: \\n\";\n",
        "  print(List, size);\n",
        "  selectionSort(List, size);\n",
        "  cout << \"After sort: \\n\";\n",
        "  print(List, size);\n",
        "}"
      ],
      "execution_count": 22,
      "outputs": [
        {
          "output_type": "stream",
          "text": [
            "Overwriting Select_sort.cpp\n"
          ],
          "name": "stdout"
        }
      ]
    },
    {
      "cell_type": "code",
      "metadata": {
        "colab": {
          "base_uri": "https://localhost:8080/"
        },
        "id": "LXraeaq5aJGX",
        "outputId": "af4fe0ec-926d-45be-f140-d65798fa6b02"
      },
      "source": [
        "%%shell\n",
        "g++ Select_sort.cpp -o select\n",
        "./select\n"
      ],
      "execution_count": 23,
      "outputs": [
        {
          "output_type": "stream",
          "text": [
            "Before sort: \n",
            "20\n",
            "12\n",
            "10\n",
            "15\n",
            "2\n",
            "7\n",
            "1\n",
            "After sort: \n",
            "1\n",
            "2\n",
            "7\n",
            "10\n",
            "12\n",
            "15\n",
            "20\n"
          ],
          "name": "stdout"
        },
        {
          "output_type": "execute_result",
          "data": {
            "text/plain": [
              ""
            ]
          },
          "metadata": {
            "tags": []
          },
          "execution_count": 23
        }
      ]
    },
    {
      "cell_type": "markdown",
      "metadata": {
        "id": "l9U3K541IIbC"
      },
      "source": [
        "**3/ Insertion Sort**"
      ]
    },
    {
      "cell_type": "code",
      "metadata": {
        "colab": {
          "base_uri": "https://localhost:8080/"
        },
        "id": "mzb_LBSaPQdt",
        "outputId": "d9ebc010-5f09-4556-e905-7fff9fa812d9"
      },
      "source": [
        "%%writefile Insert_sort.cpp\n",
        "#include <iostream>\n",
        "using namespace std;\n",
        "\n",
        "void print(int List[], int size)\n",
        "{\n",
        "    int i;\n",
        "    for (i = 0; i < size; i++)\n",
        "        cout << List[i] << \" \\n\";\n",
        "}\n",
        "\n",
        "void insertSort(int List[], int size) {\n",
        "  for (int i = 1; i < size; i++) {\n",
        "    int temp = List[i];\n",
        "    int j = i - 1;\n",
        "\n",
        "    // Compare the temp value with the element on it's left until a lower/higher value is found\n",
        "    // use while to continue the sorting until the value is in the correct spot\n",
        "    // the order of the list depends on the operator between temp and List[j]\n",
        "    while (temp < List[j] && j >= 0) {\n",
        "      List[j + 1] = List[j];\n",
        "      --j;  \n",
        "    }\n",
        "    List[j + 1] = temp;\n",
        "  }\n",
        "}\n",
        "\n",
        "int main()\n",
        "{\n",
        "    int List[] = {64, 34, 25, 12, 22, 11, 90};\n",
        "    int n = sizeof(List)/sizeof(List[0]);\n",
        "    cout<<\"Before sort: \\n\";\n",
        "    print(List, n);\n",
        "    insertSort(List, n);\n",
        "    cout<<\"After sort: \\n\";\n",
        "    print(List, n);\n",
        "    return 0;\n",
        " \n",
        "}"
      ],
      "execution_count": 39,
      "outputs": [
        {
          "output_type": "stream",
          "text": [
            "Overwriting Insert_sort.cpp\n"
          ],
          "name": "stdout"
        }
      ]
    },
    {
      "cell_type": "code",
      "metadata": {
        "colab": {
          "base_uri": "https://localhost:8080/"
        },
        "id": "lb31xVAwX7y_",
        "outputId": "851f0492-ae09-4828-bf3e-4332c8afdbb8"
      },
      "source": [
        "%%shell\n",
        "g++ Insert_sort.cpp -o insert\n",
        "./insert\n"
      ],
      "execution_count": 40,
      "outputs": [
        {
          "output_type": "stream",
          "text": [
            "Before sort: \n",
            "64 \n",
            "34 \n",
            "25 \n",
            "12 \n",
            "22 \n",
            "11 \n",
            "90 \n",
            "After sort: \n",
            "11 \n",
            "12 \n",
            "22 \n",
            "25 \n",
            "34 \n",
            "64 \n",
            "90 \n"
          ],
          "name": "stdout"
        },
        {
          "output_type": "execute_result",
          "data": {
            "text/plain": [
              ""
            ]
          },
          "metadata": {
            "tags": []
          },
          "execution_count": 40
        }
      ]
    },
    {
      "cell_type": "markdown",
      "metadata": {
        "id": "Ay7PHb13zqkJ"
      },
      "source": [
        "**4/ Merge Sort**"
      ]
    },
    {
      "cell_type": "code",
      "metadata": {
        "colab": {
          "base_uri": "https://localhost:8080/"
        },
        "id": "sSBsB8NKYFnl",
        "outputId": "ba7d1ff2-c18d-40e0-c62b-ca7a12c0de98"
      },
      "source": [
        "%%writefile Merge_sort.cpp\n",
        "\n",
        "#include <iostream>\n",
        "using namespace std;\n",
        "\n",
        "// Print function\n",
        "void print(int List[], int size) {\n",
        "  for (int i = 0; i < size; i++)\n",
        "    cout << List[i] << \"\\n\";\n",
        "}\n",
        "\n",
        "void merge(int List[], int L, int m, int R)\n",
        "{\n",
        "    int i = L; //starting index for first sub list\n",
        "    int j = m + 1; //starting index for second sub list\n",
        "    int k = L; //starting index for temp \n",
        "    int size = (R - L) + 1;\n",
        "    int temp[size];\n",
        "    while(i<=m && j <= R)\n",
        "    {\n",
        "        if (List[i] <= List [j])\n",
        "        {\n",
        "            temp[k] = List[i]; //smaller value get store in temp[]\n",
        "            i++;\n",
        "            k++;\n",
        "        }\n",
        "        else \n",
        "        {\n",
        "            temp[k] = List[j];   //in case the amount of value in 2 sub List not equal\n",
        "            j++;\n",
        "            k++;\n",
        "        }\n",
        "    }\n",
        "    while(i <= m) //copy all element from the first sub list to temp\n",
        "    {\n",
        "        temp[k] = List [i];\n",
        "        i++;\n",
        "        k++;    \n",
        "    }\n",
        "    while(j <= R) //copy all element from the second sub list to temp\n",
        "    {\n",
        "        temp[k] = List [j];\n",
        "        j++;\n",
        "        k++;    \n",
        "    }\n",
        "    for(int a = L; a <= R; a++)\n",
        "    {\n",
        "        List[a] = temp[a];\n",
        "    }\n",
        "\n",
        "}\n",
        "\n",
        "//merge sort function\n",
        "void mergeSort(int List[], int L_index, int R_index){\n",
        "    // check if the smaller list have more than 1 value\n",
        "    if (L_index < R_index)\n",
        "    {\n",
        "        int mid = (L_index + R_index)/2; //calculate mid point of the list\n",
        "        mergeSort(List, L_index, mid);\n",
        "        mergeSort(List, mid + 1, R_index);\n",
        "        merge(List, L_index, mid, R_index);\n",
        "    }\n",
        "}\n",
        "\n",
        "int main() {\n",
        "  int List[] = {22,1,3};\n",
        "  int size = sizeof(List) / sizeof(List[0]);\n",
        "  cout << \"Before sort: \\n\";\n",
        "  print(List, size);\n",
        "  mergeSort(List, 0, size - 1);\n",
        "  cout << \"After sort: \\n\";\n",
        "  print(List, size);\n",
        "  return 0;\n",
        "}\n",
        "\n"
      ],
      "execution_count": 46,
      "outputs": [
        {
          "output_type": "stream",
          "text": [
            "Overwriting Merge_sort.cpp\n"
          ],
          "name": "stdout"
        }
      ]
    },
    {
      "cell_type": "code",
      "metadata": {
        "colab": {
          "base_uri": "https://localhost:8080/"
        },
        "id": "-oec36Lq68VC",
        "outputId": "be0932c8-3c61-47f7-ee5b-bd83b6626ca6"
      },
      "source": [
        "%%shell\n",
        "g++ Merge_sort.cpp -o merge\n",
        "./merge\n"
      ],
      "execution_count": 47,
      "outputs": [
        {
          "output_type": "stream",
          "text": [
            "Before sort: \n",
            "22\n",
            "1\n",
            "3\n",
            "After sort: \n",
            "1\n",
            "3\n",
            "22\n"
          ],
          "name": "stdout"
        },
        {
          "output_type": "execute_result",
          "data": {
            "text/plain": [
              ""
            ]
          },
          "metadata": {
            "tags": []
          },
          "execution_count": 47
        }
      ]
    },
    {
      "cell_type": "markdown",
      "metadata": {
        "id": "ZtYacn7dztbN"
      },
      "source": [
        "**5/ Quick Sort**"
      ]
    },
    {
      "cell_type": "code",
      "metadata": {
        "colab": {
          "base_uri": "https://localhost:8080/"
        },
        "id": "pfV2Vmnd0foR",
        "outputId": "d8b3ebf5-c2ab-417c-d6f0-09c2ee73546c"
      },
      "source": [
        "%%writefile Quick_sort.cpp\n",
        "#include <iostream>\n",
        "using namespace std;\n",
        "\n",
        "void print(int List[], int size)\n",
        "{\n",
        "  int i;\n",
        "  for (i = 0; i < size; i++)\n",
        "    cout << List[i] << \"\\n\";\n",
        "}\n",
        "\n",
        "int Partition(int List[], int L, int R)\n",
        "{\n",
        "    int pivot= List[R]; consider the last value pivot\n",
        "    int pIndex = L; //keep track of smaller value\n",
        "    for(int i = L; i < R; i++)\n",
        "    {\n",
        "        if(List[i] < pivot)\n",
        "        {\n",
        "        int temp = List[i];\n",
        "        List[i] = List [pIndex];\n",
        "        List[pIndex] = temp;\n",
        "        pIndex++;\n",
        "        }\n",
        "    }\n",
        "    int temp = List[R];\n",
        "    List[R] = List[pIndex];\n",
        "    List[pIndex] = temp;\n",
        "    return pIndex;\n",
        "}\n",
        "\n",
        "void quickSort(int List[], int L, int R)\n",
        "{\n",
        "    if(L<R)\n",
        "    {\n",
        "        int p = Partition(List, L, R);\n",
        "        quickSort(List, L, (p-1)); //recursive call for the left sub List\n",
        "        quickSort(List, (p+1), R); //recursive call for the right sub List\n",
        "    }\n",
        "}\n",
        "\n",
        "int main() {\n",
        "  int List[] = {8, 7, 6, 1, 0, 9, 2, 3 , 11};\n",
        "  int size = sizeof(List) / sizeof(List[0]);\n",
        "  \n",
        "  cout << \"Before sort: \\n\";\n",
        "  print(List, size);\n",
        "  \n",
        "  // perform quicksort on data\n",
        "  quickSort(List, 0, size - 1);\n",
        "  \n",
        "  cout << \"After sort: \\n\";\n",
        "  print(List, size);\n",
        "}\n",
        "\n",
        "\n",
        "\n",
        "\n"
      ],
      "execution_count": 64,
      "outputs": [
        {
          "output_type": "stream",
          "text": [
            "Overwriting Quick_sort.cpp\n"
          ],
          "name": "stdout"
        }
      ]
    },
    {
      "cell_type": "code",
      "metadata": {
        "colab": {
          "base_uri": "https://localhost:8080/"
        },
        "id": "fsqFIe727WUK",
        "outputId": "21d94c7b-2ca6-4556-b4c9-9a48da431e47"
      },
      "source": [
        "%%shell\n",
        "g++ Quick_sort.cpp -o quick\n",
        "./quick"
      ],
      "execution_count": 65,
      "outputs": [
        {
          "output_type": "stream",
          "text": [
            "Before sort: \n",
            "8\n",
            "7\n",
            "6\n",
            "1\n",
            "0\n",
            "9\n",
            "2\n",
            "3\n",
            "11\n",
            "After sort: \n",
            "0\n",
            "1\n",
            "2\n",
            "3\n",
            "6\n",
            "7\n",
            "8\n",
            "9\n",
            "11\n"
          ],
          "name": "stdout"
        },
        {
          "output_type": "execute_result",
          "data": {
            "text/plain": [
              ""
            ]
          },
          "metadata": {
            "tags": []
          },
          "execution_count": 65
        }
      ]
    }
  ]
}